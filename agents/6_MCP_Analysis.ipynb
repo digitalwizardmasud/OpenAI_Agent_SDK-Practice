{
 "cells": [
  {
   "cell_type": "code",
   "execution_count": 1,
   "id": "505accf7",
   "metadata": {},
   "outputs": [
    {
     "data": {
      "text/plain": [
       "True"
      ]
     },
     "execution_count": 1,
     "metadata": {},
     "output_type": "execute_result"
    }
   ],
   "source": [
    "from agents import Agent, Runner, trace, Tool, SQLiteSession\n",
    "from agents.run_context import RunContextWrapper\n",
    "from agents.mcp import MCPServerStdio, create_static_tool_filter, MCPServerSse\n",
    "from IPython.display import Markdown, display, Image\n",
    "from dotenv import load_dotenv\n",
    "from pydantic import BaseModel\n",
    "load_dotenv()"
   ]
  },
  {
   "cell_type": "code",
   "execution_count": null,
   "id": "6dfa6e7d",
   "metadata": {},
   "outputs": [],
   "source": [
    "class ImageResponse(BaseModel):\n",
    "    image_url: str\n",
    "    instruction: str"
   ]
  },
  {
   "cell_type": "code",
   "execution_count": null,
   "id": "3516a093",
   "metadata": {},
   "outputs": [],
   "source": [
    "server = MCPServerSse(params={\"url\":\"http://127.0.0.1:8000/sse\"}, client_session_timeout_seconds=180)\n",
    "await server.connect()\n",
    "agent = Agent(name=\"AI\", instructions=\"You are a helpful assistant\", model=\"gpt-4o-mini\", mcp_servers=[server], output_type=ImageResponse)\n"
   ]
  },
  {
   "cell_type": "code",
   "execution_count": null,
   "id": "bc49d9a9",
   "metadata": {},
   "outputs": [],
   "source": [
    "with trace(\"mcp_analysis\"):\n",
    "    result = await Runner.run(agent, \"A dog dancing with a cat on the beach\")\n",
    "    "
   ]
  },
  {
   "cell_type": "code",
   "execution_count": null,
   "id": "0abd3ed7",
   "metadata": {},
   "outputs": [
    {
     "data": {
      "text/html": [
       "<img src=\"/Users/masudrana/projects/learning/openai_agent_sdk/agents/mcp_servers/image.png\" width=\"300\" height=\"300\"/>"
      ],
      "text/plain": [
       "<IPython.core.display.Image object>"
      ]
     },
     "metadata": {},
     "output_type": "display_data"
    }
   ],
   "source": [
    "display(Markdown(result.final_output.instruction))\n",
    "\n",
    "display(Image(url=result.final_output.image_url, width=300, height=300))"
   ]
  },
  {
   "cell_type": "code",
   "execution_count": null,
   "id": "7f7c0b4e",
   "metadata": {},
   "outputs": [],
   "source": []
  }
 ],
 "metadata": {
  "kernelspec": {
   "display_name": "openai_agent_sdk",
   "language": "python",
   "name": "python3"
  },
  "language_info": {
   "codemirror_mode": {
    "name": "ipython",
    "version": 3
   },
   "file_extension": ".py",
   "mimetype": "text/x-python",
   "name": "python",
   "nbconvert_exporter": "python",
   "pygments_lexer": "ipython3",
   "version": "3.12.5"
  }
 },
 "nbformat": 4,
 "nbformat_minor": 5
}
