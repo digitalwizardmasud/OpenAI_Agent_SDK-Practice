{
 "cells": [
  {
   "cell_type": "code",
   "execution_count": 2,
   "id": "9f6d2f22",
   "metadata": {},
   "outputs": [
    {
     "data": {
      "text/plain": [
       "True"
      ]
     },
     "execution_count": 2,
     "metadata": {},
     "output_type": "execute_result"
    }
   ],
   "source": [
    "from agents import Agent, Runner, trace, Tool, SQLiteSession\n",
    "from agents.run_context import RunContextWrapper\n",
    "from agents.mcp import MCPServerStdio, create_static_tool_filter, MCPServerSse\n",
    "from IPython.display import Markdown, display\n",
    "from dotenv import load_dotenv\n",
    "load_dotenv()"
   ]
  },
  {
   "cell_type": "code",
   "execution_count": null,
   "id": "a48372d7",
   "metadata": {},
   "outputs": [],
   "source": [
    "### Using Third-Party MCP Server \n",
    "# async with MCPServerStdio(\n",
    "#     params={\n",
    "#         \"command\": \"npx\",\n",
    "#         \"args\": [\"-y\", \"@modelcontextprotocol/server-filesystem\", \"./\"],\n",
    "#     },\n",
    "#     client_session_timeout_seconds=30\n",
    "# ) as server:\n",
    "#     with trace(\"mcp\"):\n",
    "#         agent = Agent(name=\"Test\", instructions=\"You are a helpful assistant\", model=\"gpt-4o-mini\", mcp_servers=[server])\n",
    "#         result = await Runner.run(agent, \"Create a new file test.txt with content 'Hello world'\")\n",
    "#         print(result.final_output)"
   ]
  },
  {
   "cell_type": "code",
   "execution_count": null,
   "id": "b2db82f0",
   "metadata": {},
   "outputs": [],
   "source": [
    "## Both Custom and Third-Party Servers Configuration\n",
    "params = [\n",
    "    {\n",
    "        \"name\": \"Pdf master - who can extract text from pdf\",\n",
    "        \"command\": \"uv\",\n",
    "        \"args\": [\"run\", \"./mcp_servers/pdf-master.py\"],\n",
    "    },\n",
    "    {\n",
    "        \"command\": \"npx\",\n",
    "        \"args\": [\"-y\", \"@modelcontextprotocol/server-filesystem\", \"./files\"],\n",
    "    }\n",
    "]\n",
    "\n",
    "servers = [MCPServerStdio(params=param, client_session_timeout_seconds=30) for param in params]"
   ]
  },
  {
   "cell_type": "code",
   "execution_count": null,
   "id": "3e3f1698",
   "metadata": {},
   "outputs": [],
   "source": [
    "# Connecting servers \n",
    "for server in servers:\n",
    "    await server.connect()\n",
    "\n",
    "# Using MCP Server with Agent\n",
    "with trace(\"non_filter_mcp\"):\n",
    "    agent = Agent(name=\"mympc\", instructions=\"You are a helpful assistant\", model=\"gpt-4o-mini\", mcp_servers=servers)\n",
    "    result = await Runner.run(agent, \"extract this pdf './files/example.pdf' and make summary and important notes from extracted text and save it to data.md\")\n",
    "    display(Markdown(result.final_output))"
   ]
  },
  {
   "cell_type": "code",
   "execution_count": 6,
   "id": "aea60a1a",
   "metadata": {},
   "outputs": [
    {
     "name": "stdout",
     "output_type": "stream",
     "text": [
      "1\n",
      "pdf_master_tool\n"
     ]
    },
    {
     "name": "stderr",
     "output_type": "stream",
     "text": [
      "Error in sse_reader\n",
      "Traceback (most recent call last):\n",
      "  File \"/Users/masudrana/projects/learning/openai_agent_sdk/.venv/lib/python3.12/site-packages/httpx/_transports/default.py\", line 101, in map_httpcore_exceptions\n",
      "    yield\n",
      "  File \"/Users/masudrana/projects/learning/openai_agent_sdk/.venv/lib/python3.12/site-packages/httpx/_transports/default.py\", line 271, in __aiter__\n",
      "    async for part in self._httpcore_stream:\n",
      "  File \"/Users/masudrana/projects/learning/openai_agent_sdk/.venv/lib/python3.12/site-packages/httpcore/_async/connection_pool.py\", line 407, in __aiter__\n",
      "    raise exc from None\n",
      "  File \"/Users/masudrana/projects/learning/openai_agent_sdk/.venv/lib/python3.12/site-packages/httpcore/_async/connection_pool.py\", line 403, in __aiter__\n",
      "    async for part in self._stream:\n",
      "  File \"/Users/masudrana/projects/learning/openai_agent_sdk/.venv/lib/python3.12/site-packages/httpcore/_async/http11.py\", line 342, in __aiter__\n",
      "    raise exc\n",
      "  File \"/Users/masudrana/projects/learning/openai_agent_sdk/.venv/lib/python3.12/site-packages/httpcore/_async/http11.py\", line 334, in __aiter__\n",
      "    async for chunk in self._connection._receive_response_body(**kwargs):\n",
      "  File \"/Users/masudrana/projects/learning/openai_agent_sdk/.venv/lib/python3.12/site-packages/httpcore/_async/http11.py\", line 203, in _receive_response_body\n",
      "    event = await self._receive_event(timeout=timeout)\n",
      "            ^^^^^^^^^^^^^^^^^^^^^^^^^^^^^^^^^^^^^^^^^^\n",
      "  File \"/Users/masudrana/projects/learning/openai_agent_sdk/.venv/lib/python3.12/site-packages/httpcore/_async/http11.py\", line 213, in _receive_event\n",
      "    with map_exceptions({h11.RemoteProtocolError: RemoteProtocolError}):\n",
      "  File \"/Library/Frameworks/Python.framework/Versions/3.12/lib/python3.12/contextlib.py\", line 158, in __exit__\n",
      "    self.gen.throw(value)\n",
      "  File \"/Users/masudrana/projects/learning/openai_agent_sdk/.venv/lib/python3.12/site-packages/httpcore/_exceptions.py\", line 14, in map_exceptions\n",
      "    raise to_exc(exc) from exc\n",
      "httpcore.RemoteProtocolError: peer closed connection without sending complete message body (incomplete chunked read)\n",
      "\n",
      "The above exception was the direct cause of the following exception:\n",
      "\n",
      "Traceback (most recent call last):\n",
      "  File \"/Users/masudrana/projects/learning/openai_agent_sdk/.venv/lib/python3.12/site-packages/mcp/client/sse.py\", line 72, in sse_reader\n",
      "    async for sse in event_source.aiter_sse():\n",
      "  File \"/Users/masudrana/projects/learning/openai_agent_sdk/.venv/lib/python3.12/site-packages/httpx_sse/_api.py\", line 42, in aiter_sse\n",
      "    async for line in lines:\n",
      "  File \"/Users/masudrana/projects/learning/openai_agent_sdk/.venv/lib/python3.12/site-packages/httpx/_models.py\", line 1031, in aiter_lines\n",
      "    async for text in self.aiter_text():\n",
      "  File \"/Users/masudrana/projects/learning/openai_agent_sdk/.venv/lib/python3.12/site-packages/httpx/_models.py\", line 1018, in aiter_text\n",
      "    async for byte_content in self.aiter_bytes():\n",
      "  File \"/Users/masudrana/projects/learning/openai_agent_sdk/.venv/lib/python3.12/site-packages/httpx/_models.py\", line 997, in aiter_bytes\n",
      "    async for raw_bytes in self.aiter_raw():\n",
      "  File \"/Users/masudrana/projects/learning/openai_agent_sdk/.venv/lib/python3.12/site-packages/httpx/_models.py\", line 1055, in aiter_raw\n",
      "    async for raw_stream_bytes in self.stream:\n",
      "  File \"/Users/masudrana/projects/learning/openai_agent_sdk/.venv/lib/python3.12/site-packages/httpx/_client.py\", line 176, in __aiter__\n",
      "    async for chunk in self._stream:\n",
      "  File \"/Users/masudrana/projects/learning/openai_agent_sdk/.venv/lib/python3.12/site-packages/httpx/_transports/default.py\", line 270, in __aiter__\n",
      "    with map_httpcore_exceptions():\n",
      "  File \"/Library/Frameworks/Python.framework/Versions/3.12/lib/python3.12/contextlib.py\", line 158, in __exit__\n",
      "    self.gen.throw(value)\n",
      "  File \"/Users/masudrana/projects/learning/openai_agent_sdk/.venv/lib/python3.12/site-packages/httpx/_transports/default.py\", line 118, in map_httpcore_exceptions\n",
      "    raise mapped_exc(message) from exc\n",
      "httpx.RemoteProtocolError: peer closed connection without sending complete message body (incomplete chunked read)\n"
     ]
    }
   ],
   "source": [
    "server1 = MCPServerStdio(\n",
    "    params={\n",
    "        \"name\": \"Pdf master - who can extract text from pdf\",\n",
    "        \"command\": \"uv\",\n",
    "        \"args\": [\"run\", \"./mcp_servers/pdf-master.py\"],\n",
    "    },\n",
    "    client_session_timeout_seconds=30\n",
    ")\n",
    "server2 = MCPServerStdio(\n",
    "    params={\n",
    "        \"name\":\"File System Server\",\n",
    "        \"command\": \"npx\",\n",
    "        \"args\": [\"-y\", \"@modelcontextprotocol/server-filesystem\", \"./files\"],\n",
    "    },\n",
    "    # tool_filter=create_static_tool_filter(\n",
    "    #     allowed_tool_names=[\"read_file\", \"write_file\", \"create_directory\"],\n",
    "    #     blocked_tool_names=[\"move_file\"]\n",
    "    # ),\n",
    "    client_session_timeout_seconds=30\n",
    ")\n",
    "\n",
    "# SSE Server \n",
    "server3 = MCPServerSse(params={\"url\":\"http://127.0.0.1:8000/sse\"}, client_session_timeout_seconds=30)\n",
    "\n",
    "### Check tools of server23\n",
    "await server3.connect()\n",
    "await server2.connect()\n",
    "run_context = RunContextWrapper(context=None)\n",
    "agent = agent = Agent(name=\"Test\", instructions=\"You are a helpful assistant\", model=\"gpt-4o-mini\")\n",
    "tools = await server3.list_tools(run_context, agent)\n",
    "print(len(tools))\n",
    "for tool in tools:\n",
    "    print(tool.name)\n"
   ]
  },
  {
   "cell_type": "code",
   "execution_count": 9,
   "id": "9db52f3b",
   "metadata": {},
   "outputs": [
    {
     "data": {
      "text/markdown": [
       "### Summary of the Study: Mobile Devices in English Language Learning\n",
       "\n",
       "#### Author\n",
       "Mariusz Kruk, University of Zielona Gora, Poland\n",
       "\n",
       "#### Abstract\n",
       "The study explores how advanced learners of English utilize mobile devices (smartphones and tablets) to enhance their language learning. Through semi-structured interviews with 20 students, the study identifies a dual awareness: while some students actively leverage mobile devices for personalized learning, others exhibit a more spontaneous or unstructured approach.\n",
       "\n",
       "---\n",
       "\n",
       "### Key Sections\n",
       "\n",
       "#### 1. Introduction\n",
       "Mobile devices offer opportunities for individualized, informal language learning. They are prevalent among learners and serve as tools for learner autonomy and technology-mediated learning experiences.\n",
       "\n",
       "#### 2. Literature Review\n",
       "The concept of learner autonomy emphasizes self-directed learning. The integration of mobile technologies has transformed language education, allowing learners to access resources anytime and anywhere, fostering independence and collaborative learning.\n",
       "\n",
       "#### 3. Methodology\n",
       "- **Participants**: 20 Polish university students at different levels (BA and MA).\n",
       "- **Data Collection**: Semi-structured interviews aimed at understanding how and why students use mobile devices for learning English.\n",
       "\n",
       "#### 4. Findings\n",
       "1. **Usage of Mobile Devices**: Smartphones were the most frequently used devices. Most students reported increased use over time and felt relatively experienced in using them for learning.\n",
       "   \n",
       "2. **Reasons for Use**: Convenience and quick access to information were key motivations. Mobile devices aid in organizing study materials and facilitate quick dictionary access.\n",
       "\n",
       "3. **Resources and Tools**: Students mainly used dictionaries, apps like Duolingo and Google Translate, and online resources for practicing vocabulary.\n",
       "\n",
       "4. **Learning Contexts**: A significant number used their devices during leisure time for language practice rather than in formal classroom settings. Teachers seldom encouraged mobile device usage in class.\n",
       "\n",
       "5. **Language Skills**: Vocabulary was the primary focus, with limited engagement in grammar, reading, listening, or speaking practice through mobile devices.\n",
       "\n",
       "6. **Study Performance**: 75% of participants felt that mobile device usage enhanced their study efficiency and effectiveness, allowing them to devote more time to English learning.\n",
       "\n",
       "#### 5. Discussion and Conclusions\n",
       "The findings suggest that while students generally leverage mobile devices for vocabulary learning, their use remains somewhat unstructured during classroom activities. The study calls for educators to integrate mobile device capabilities into teaching practices to enhance learner autonomy and engagement.\n",
       "\n",
       "#### Limitations\n",
       "The study had a small, homogenous sample size and was limited to one-time interviews, which could restrict the findings' generalizability.\n",
       "\n",
       "---\n",
       "\n",
       "### Keywords\n",
       "Mobile devices, learner autonomy, English language learning, technology-mediated learning."
      ],
      "text/plain": [
       "<IPython.core.display.Markdown object>"
      ]
     },
     "metadata": {},
     "output_type": "display_data"
    }
   ],
   "source": [
    "# Connecting servers \n",
    "# for server in [server1, server2]:\n",
    "#     await server.connect()\n",
    "\n",
    "# Using MCP Server with Agent\n",
    "with trace(\"filtered_mcp\"):\n",
    "    agent = Agent(name=\"mympc2\", instructions=\"You are a helpful assistant\", model=\"gpt-4o-mini\", mcp_servers=[server3])\n",
    "    result = await Runner.run(agent, \"extract ../files/example.pdf' and make summary\")\n",
    "    display(Markdown(result.final_output))"
   ]
  },
  {
   "cell_type": "code",
   "execution_count": null,
   "id": "b0499f60",
   "metadata": {},
   "outputs": [],
   "source": []
  }
 ],
 "metadata": {
  "kernelspec": {
   "display_name": "openai_agent_sdk",
   "language": "python",
   "name": "python3"
  },
  "language_info": {
   "codemirror_mode": {
    "name": "ipython",
    "version": 3
   },
   "file_extension": ".py",
   "mimetype": "text/x-python",
   "name": "python",
   "nbconvert_exporter": "python",
   "pygments_lexer": "ipython3",
   "version": "3.12.5"
  }
 },
 "nbformat": 4,
 "nbformat_minor": 5
}
