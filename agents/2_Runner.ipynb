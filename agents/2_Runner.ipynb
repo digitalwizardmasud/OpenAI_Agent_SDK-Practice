{
 "cells": [
  {
   "cell_type": "code",
   "execution_count": null,
   "id": "21a5d2e8",
   "metadata": {},
   "outputs": [],
   "source": [
    "from agents import Agent, Runner, function_tool, trace, RunContextWrapper, RawResponsesStreamEvent, SQLiteSession\n",
    "from agents.agent import ToolsToFinalOutputResult, StopAtTools\n",
    "from IPython.display import display, Markdown\n",
    "import requests\n",
    "import random\n",
    "from pydantic import BaseModel\n",
    "from dataclasses import dataclass\n",
    "import asyncio\n",
    "from dotenv import load_dotenv\n",
    "\n",
    "load_dotenv()"
   ]
  },
  {
   "cell_type": "code",
   "execution_count": null,
   "id": "78f45ff4",
   "metadata": {},
   "outputs": [],
   "source": [
    "# Run Stream \n",
    "agent = Agent(name=\"Assistant\", instructions=\"You are a helpful assistant\")\n",
    "\n",
    "result = Runner.run_streamed(agent, \"who are you?\")\n",
    "async for chunk in result.stream_events():\n",
    "    try:\n",
    "        if chunk.data.type == \"response.output_text.delta\":\n",
    "            print(chunk.data.delta, end=\"\", flush=True)\n",
    "    except AttributeError:\n",
    "        pass"
   ]
  },
  {
   "cell_type": "code",
   "execution_count": null,
   "id": "6bd9df41",
   "metadata": {},
   "outputs": [],
   "source": [
    "# Alternative of Session\n",
    "agent = Agent(name=\"Assistant\", instructions=\"You are a helpful assistant\")\n",
    "with trace(\"input_list\"):\n",
    "    #First Turn\n",
    "    result = await Runner.run(agent, \"What is the capital of Nigeria?\")\n",
    "    print(result.final_output)\n",
    "    \n",
    "    #Second Turn\n",
    "    new_input = result.to_input_list() + [{\"role\":\"user\", \"content\": \"Let me know shortly about the state\"}]\n",
    "    result = await Runner.run(agent, new_input)\n",
    "    print(result.final_output)\n"
   ]
  },
  {
   "cell_type": "code",
   "execution_count": null,
   "id": "5cda4aee",
   "metadata": {},
   "outputs": [],
   "source": [
    "session = SQLiteSession(\"session_1\")"
   ]
  },
  {
   "cell_type": "code",
   "execution_count": null,
   "id": "d2f378a3",
   "metadata": {},
   "outputs": [],
   "source": [
    "# Session \n",
    "\n",
    "agent = Agent(name=\"Assistant\", instructions=\"You are a helpful assistant\")\n",
    "with trace(\"session\"):\n",
    "    #First Turn\n",
    "    result = await Runner.run(agent, \"What is the capital of Nigeria?\", session=session)\n",
    "    print(result.final_output)\n",
    "    \n",
    "    #Second Turn\n",
    "    result = await Runner.run(agent, \"Let me know shortly about the state\", session=session)\n",
    "    print(result.final_output)\n"
   ]
  },
  {
   "cell_type": "code",
   "execution_count": null,
   "id": "69ffc75c",
   "metadata": {},
   "outputs": [],
   "source": [
    "with trace(\"session\"):\n",
    "    result = await Runner.run(agent, \"give me summary within 20 word\", session=session)\n",
    "    print(result.final_output)"
   ]
  },
  {
   "cell_type": "code",
   "execution_count": null,
   "id": "80f45bf9",
   "metadata": {},
   "outputs": [],
   "source": []
  }
 ],
 "metadata": {
  "kernelspec": {
   "display_name": "openai_agent_sdk",
   "language": "python",
   "name": "python3"
  },
  "language_info": {
   "codemirror_mode": {
    "name": "ipython",
    "version": 3
   },
   "file_extension": ".py",
   "mimetype": "text/x-python",
   "name": "python",
   "nbconvert_exporter": "python",
   "pygments_lexer": "ipython3",
   "version": "3.12.5"
  }
 },
 "nbformat": 4,
 "nbformat_minor": 5
}
