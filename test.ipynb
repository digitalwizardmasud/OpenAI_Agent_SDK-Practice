{
 "cells": [
  {
   "cell_type": "code",
   "execution_count": 2,
   "id": "6df0fe61",
   "metadata": {},
   "outputs": [],
   "source": [
    "from agents import Agent, Runner, trace, Tool, SQLiteSession\n",
    "from agents.mcp import MCPServerStdio, MCPServerSse\n",
    "from IPython.display import Markdown, display\n",
    "from dotenv import load_dotenv\n"
   ]
  },
  {
   "cell_type": "code",
   "execution_count": 3,
   "id": "0512bcbd",
   "metadata": {},
   "outputs": [
    {
     "data": {
      "text/plain": [
       "True"
      ]
     },
     "execution_count": 3,
     "metadata": {},
     "output_type": "execute_result"
    }
   ],
   "source": [
    "load_dotenv()"
   ]
  },
  {
   "cell_type": "code",
   "execution_count": 6,
   "id": "20ae5d58",
   "metadata": {},
   "outputs": [
    {
     "name": "stdout",
     "output_type": "stream",
     "text": [
      "[Tool(name='pdf_master_tool', title=None, description='\\n    This tool is used to process PDF files.\\n    It can extract text\\n    ', inputSchema={'properties': {'file_path': {'title': 'File Path', 'type': 'string'}}, 'required': ['file_path'], 'title': 'pdf_master_toolArguments', 'type': 'object'}, outputSchema={'properties': {'result': {'title': 'Result', 'type': 'string'}}, 'required': ['result'], 'title': 'pdf_master_toolOutput', 'type': 'object'}, annotations=None, meta=None)]\n"
     ]
    }
   ],
   "source": [
    "params={\n",
    "    \"url\": \"http://127.0.0.1:8000/sse\"\n",
    "}\n",
    "async with MCPServerSse(params=params, client_session_timeout_seconds=30) as sseServer:\n",
    "    tools = await sseServer.list_tools()\n",
    "    print(tools)"
   ]
  },
  {
   "cell_type": "code",
   "execution_count": null,
   "id": "bb99b419",
   "metadata": {},
   "outputs": [],
   "source": [
    "# fetch_params = { \"command\": \"npx\",\n",
    "#       \"args\": [\n",
    "#         \"@playwright/mcp@latest\",\n",
    "#         \"--isolated\",\n",
    "#         \"--storage-state={storage.json}\"\n",
    "#       ]}\n",
    "\n",
    "# async with MCPServerStdio(params=fetch_params, client_session_timeout_seconds=60) as server:\n",
    "#     fetch_tools = await server.list_tools()\n",
    "\n",
    "# fetch_tools"
   ]
  },
  {
   "cell_type": "code",
   "execution_count": null,
   "id": "6f703cc8",
   "metadata": {},
   "outputs": [],
   "source": [
    "from mcp.server.fastmcp import FastMCP\n",
    "\n",
    "mcp = FastMCP(\"accounts_server\")\n"
   ]
  },
  {
   "cell_type": "code",
   "execution_count": null,
   "id": "969a6ca7",
   "metadata": {},
   "outputs": [],
   "source": [
    "session = SQLiteSession(\"quran2\", \"sessions.db\")"
   ]
  },
  {
   "cell_type": "code",
   "execution_count": null,
   "id": "51f54a0f",
   "metadata": {},
   "outputs": [],
   "source": [
    "all_params = [\n",
    "    {\n",
    "        \"command\": \"npx\",\n",
    "        \"args\": [\n",
    "            \"@shtse8/filesystem-mcp\"\n",
    "        ]\n",
    "    },\n",
    "    # {\"command\": \"uvx\", \"args\": [\"mcp-server-fetch\"]},\n",
    "    # {\"command\": \"uv\", \"args\": [\"run\", \"test_server.py\"]},\n",
    "    { \"command\": \"npx\",\n",
    "      \"args\": [\n",
    "        \"@playwright/mcp@latest\",\n",
    "        \"--isolated\",\n",
    "      ]}\n",
    "]\n",
    "\n",
    "servers = [MCPServerStdio(params=params, client_session_timeout_seconds=30) for params in all_params]"
   ]
  },
  {
   "cell_type": "code",
   "execution_count": null,
   "id": "8c3a986f",
   "metadata": {},
   "outputs": [],
   "source": [
    "url=\"\"\n",
    "command=f\"\"\" \"\"\""
   ]
  },
  {
   "cell_type": "code",
   "execution_count": null,
   "id": "680c5267",
   "metadata": {},
   "outputs": [],
   "source": [
    "for server in servers:\n",
    "    await server.connect()\n",
    "\n",
    "with trace(\"test\"):\n",
    "    agent = Agent(name=\"Test\", instructions=\"\", model=\"gpt-4o-mini\", mcp_servers=servers)\n",
    "    result = await Runner.run(agent, command,  session=session)\n",
    "    display(Markdown(result.final_output))"
   ]
  },
  {
   "cell_type": "code",
   "execution_count": null,
   "id": "3860c0d0",
   "metadata": {},
   "outputs": [],
   "source": [
    "# Check session items\n",
    "# items = await session.get_items()\n",
    "# for item in items:\n",
    "#     print(item)\n",
    "    "
   ]
  },
  {
   "cell_type": "code",
   "execution_count": null,
   "id": "af0d20ed",
   "metadata": {},
   "outputs": [],
   "source": [
    "agent = Agent(name=\"Test\", instructions=\"\", model=\"gpt-5-mini\", mcp_servers=servers)\n",
    "result = await Runner.run(agent, \" A \",  session=session)\n",
    "display(Markdown(result.final_output))"
   ]
  },
  {
   "cell_type": "code",
   "execution_count": null,
   "id": "4d906995",
   "metadata": {},
   "outputs": [],
   "source": []
  }
 ],
 "metadata": {
  "kernelspec": {
   "display_name": "openai_agent_sdk",
   "language": "python",
   "name": "python3"
  },
  "language_info": {
   "codemirror_mode": {
    "name": "ipython",
    "version": 3
   },
   "file_extension": ".py",
   "mimetype": "text/x-python",
   "name": "python",
   "nbconvert_exporter": "python",
   "pygments_lexer": "ipython3",
   "version": "3.12.5"
  }
 },
 "nbformat": 4,
 "nbformat_minor": 5
}
