{
 "cells": [
  {
   "cell_type": "code",
   "execution_count": null,
   "id": "9f6d2f22",
   "metadata": {},
   "outputs": [],
   "source": [
    "from agents import Agent, Runner, trace, Tool, SQLiteSession\n",
    "from agents.run_context import RunContextWrapper\n",
    "from agents.mcp import MCPServerStdio, create_static_tool_filter\n",
    "from IPython.display import Markdown, display\n",
    "from dotenv import load_dotenv\n",
    "load_dotenv()"
   ]
  },
  {
   "cell_type": "code",
   "execution_count": null,
   "id": "a48372d7",
   "metadata": {},
   "outputs": [],
   "source": [
    "### Using Third-Party MCP Server \n",
    "# async with MCPServerStdio(\n",
    "#     params={\n",
    "#         \"command\": \"npx\",\n",
    "#         \"args\": [\"-y\", \"@modelcontextprotocol/server-filesystem\", \"./\"],\n",
    "#     },\n",
    "#     client_session_timeout_seconds=30\n",
    "# ) as server:\n",
    "#     with trace(\"mcp\"):\n",
    "#         agent = Agent(name=\"Test\", instructions=\"You are a helpful assistant\", model=\"gpt-4o-mini\", mcp_servers=[server])\n",
    "#         result = await Runner.run(agent, \"Create a new file test.txt with content 'Hello world'\")\n",
    "#         print(result.final_output)"
   ]
  },
  {
   "cell_type": "code",
   "execution_count": null,
   "id": "b2db82f0",
   "metadata": {},
   "outputs": [],
   "source": [
    "## Both Custom and Third-Party Servers Configuration\n",
    "params = [\n",
    "    {\n",
    "        \"name\": \"Pdf master - who can extract text from pdf\",\n",
    "        \"command\": \"uv\",\n",
    "        \"args\": [\"run\", \"./mcp_servers/pdf-master.py\"],\n",
    "    },\n",
    "    {\n",
    "        \"command\": \"npx\",\n",
    "        \"args\": [\"-y\", \"@modelcontextprotocol/server-filesystem\", \"./files\"],\n",
    "    }\n",
    "]\n",
    "\n",
    "servers = [MCPServerStdio(params=param, client_session_timeout_seconds=30) for param in params]"
   ]
  },
  {
   "cell_type": "code",
   "execution_count": null,
   "id": "3e3f1698",
   "metadata": {},
   "outputs": [],
   "source": [
    "# Connecting servers \n",
    "for server in servers:\n",
    "    await server.connect()\n",
    "\n",
    "# Using MCP Server with Agent\n",
    "with trace(\"non_filter_mcp\"):\n",
    "    agent = Agent(name=\"mympc\", instructions=\"You are a helpful assistant\", model=\"gpt-4o-mini\", mcp_servers=servers)\n",
    "    result = await Runner.run(agent, \"extract this pdf './files/example.pdf' and make summary and important notes from extracted text and save it to data.md\")\n",
    "    display(Markdown(result.final_output))"
   ]
  },
  {
   "cell_type": "code",
   "execution_count": null,
   "id": "aea60a1a",
   "metadata": {},
   "outputs": [],
   "source": [
    "server1 = MCPServerStdio(\n",
    "    params={\n",
    "        \"name\": \"Pdf master - who can extract text from pdf\",\n",
    "        \"command\": \"uv\",\n",
    "        \"args\": [\"run\", \"./mcp_servers/pdf-master.py\"],\n",
    "    },\n",
    "    client_session_timeout_seconds=30\n",
    ")\n",
    "server2 = MCPServerStdio(\n",
    "    params={\n",
    "        \"name\":\"File System Server\",\n",
    "        \"command\": \"npx\",\n",
    "        \"args\": [\"-y\", \"@modelcontextprotocol/server-filesystem\", \"./files\"],\n",
    "    },\n",
    "    tool_filter=create_static_tool_filter(\n",
    "        allowed_tool_names=[\"read_file\", \"write_file\", \"create_directory\"],\n",
    "        # blocked_tool_names=[\"move_file\"]\n",
    "    ),\n",
    "    client_session_timeout_seconds=30\n",
    ")\n",
    "\n",
    "### Check tools of server2 \n",
    "await server2.connect()\n",
    "run_context = RunContextWrapper(context=None)\n",
    "agent = agent = Agent(name=\"Test\", instructions=\"You are a helpful assistant\", model=\"gpt-4o-mini\")\n",
    "tools = await server2.list_tools(run_context, agent)\n",
    "print(len(tools))\n",
    "for tool in tools:\n",
    "    print(tool.name)\n"
   ]
  },
  {
   "cell_type": "code",
   "execution_count": null,
   "id": "9db52f3b",
   "metadata": {},
   "outputs": [],
   "source": [
    "# Connecting servers \n",
    "for server in [server1, server2]:\n",
    "    await server.connect()\n",
    "\n",
    "# Using MCP Server with Agent\n",
    "with trace(\"filtered_mcp\"):\n",
    "    agent = Agent(name=\"mympc\", instructions=\"You are a helpful assistant\", model=\"gpt-4o-mini\", mcp_servers=servers)\n",
    "    result = await Runner.run(agent, \"extract this pdf './files/example.pdf' and make summary and important notes from extracted text and save it to data.md\")\n",
    "    display(Markdown(result.final_output))"
   ]
  },
  {
   "cell_type": "code",
   "execution_count": null,
   "id": "b0499f60",
   "metadata": {},
   "outputs": [],
   "source": []
  }
 ],
 "metadata": {
  "kernelspec": {
   "display_name": "openai_agent_sdk",
   "language": "python",
   "name": "python3"
  },
  "language_info": {
   "codemirror_mode": {
    "name": "ipython",
    "version": 3
   },
   "file_extension": ".py",
   "mimetype": "text/x-python",
   "name": "python",
   "nbconvert_exporter": "python",
   "pygments_lexer": "ipython3",
   "version": "3.12.5"
  }
 },
 "nbformat": 4,
 "nbformat_minor": 5
}
