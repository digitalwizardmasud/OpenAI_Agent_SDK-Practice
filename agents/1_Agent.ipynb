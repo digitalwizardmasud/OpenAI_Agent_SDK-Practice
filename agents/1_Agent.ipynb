{
 "cells": [
  {
   "cell_type": "markdown",
   "id": "435eafe5",
   "metadata": {},
   "source": [
    "#### Here is covered: \n",
    "- Agent\n",
    "- Context\n",
    "- Tools"
   ]
  },
  {
   "cell_type": "code",
   "execution_count": null,
   "id": "57eb3064",
   "metadata": {},
   "outputs": [],
   "source": [
    "from agents import Agent, Runner, function_tool, trace, RunContextWrapper\n",
    "from agents.agent import ToolsToFinalOutputResult, StopAtTools\n",
    "from IPython.display import display, Markdown\n",
    "import requests\n",
    "import random\n",
    "from pydantic import BaseModel\n",
    "from dataclasses import dataclass"
   ]
  },
  {
   "cell_type": "code",
   "execution_count": null,
   "id": "cd48ba83",
   "metadata": {},
   "outputs": [],
   "source": [
    "# Context creation for the agent\n",
    "@dataclass\n",
    "class UserContext:\n",
    "    name: str\n",
    "    uid: str\n",
    "    is_pro_user: bool"
   ]
  },
  {
   "cell_type": "code",
   "execution_count": null,
   "id": "83ba19cf",
   "metadata": {},
   "outputs": [],
   "source": [
    "# Creating custom tools\n",
    "@function_tool\n",
    "def get_weather(city:str) -> str:\n",
    "    \"\"\"Fetch the current weather for a given city.\"\"\"\n",
    "    return f\"The weather in {city} is sunny with a high of 25°C.\"\n",
    "\n",
    "@function_tool\n",
    "def get_ulka_news(topic:str) -> str:\n",
    "    \"\"\"Fetch the latest news from ulka\"\"\"\n",
    "    res = requests.get(f\"https://jsonplaceholder.typicode.com/posts/{random.randint(1, 100)}\")\n",
    "    output = res.json()\n",
    "    return f\"{output['title']} - {output['body']}\"\n",
    "\n",
    "\n",
    "@function_tool\n",
    "def get_user_info(wrapper:RunContextWrapper[UserContext]) -> str:\n",
    "    \"\"\"Get User information\"\"\"\n",
    "    user_info = wrapper.context\n",
    "    return f\"User Name: {wrapper.context.name}, User ID: {wrapper.context.uid}, Pro User: {wrapper.context.is_pro_user}\""
   ]
  },
  {
   "cell_type": "code",
   "execution_count": null,
   "id": "69b195e8",
   "metadata": {},
   "outputs": [],
   "source": [
    "# Custom output type for the agent\n",
    "class OutputType(BaseModel):\n",
    "    title: str\n",
    "    description: str"
   ]
  },
  {
   "cell_type": "code",
   "execution_count": null,
   "id": "d3de7a44",
   "metadata": {},
   "outputs": [],
   "source": [
    "# Agent \n",
    "agent = Agent[UserContext](\n",
    "    name=\"Assistant\",\n",
    "    instructions=\"You are a helpful assistant\",\n",
    "    model=\"gpt-4.1-mini\",\n",
    "    # output_type=OutputType,\n",
    "    tools=[get_user_info, get_weather, get_ulka_news],\n",
    "    # tool_use_behavior=\"stop_on_first_tool\"\n",
    "    tool_use_behavior=StopAtTools(stop_at_tool_names=[\"get_user_info\"])\n",
    "    \n",
    ")"
   ]
  },
  {
   "cell_type": "code",
   "execution_count": null,
   "id": "057ec0e9",
   "metadata": {},
   "outputs": [],
   "source": [
    "# Provided context value \n",
    "userinfo = UserContext(\n",
    "    name=\"Masud Rana\",\n",
    "    uid=\"masudrana\",\n",
    "    is_pro_user=True\n",
    ")\n",
    "\n",
    "# Running Agent with context \n",
    "with trace(\"Function tools\"):\n",
    "    result = await Runner.run(agent, \"Let me know my name, then today's weather in Hongkong, then latest news of today\", context=userinfo)\n"
   ]
  },
  {
   "cell_type": "code",
   "execution_count": null,
   "id": "c60fc4c8",
   "metadata": {},
   "outputs": [],
   "source": [
    "\n",
    "print(result.final_output)\n"
   ]
  },
  {
   "cell_type": "code",
   "execution_count": null,
   "id": "fa74e67c",
   "metadata": {},
   "outputs": [],
   "source": []
  }
 ],
 "metadata": {
  "kernelspec": {
   "display_name": "openai_agent_sdk",
   "language": "python",
   "name": "python3"
  },
  "language_info": {
   "codemirror_mode": {
    "name": "ipython",
    "version": 3
   },
   "file_extension": ".py",
   "mimetype": "text/x-python",
   "name": "python",
   "nbconvert_exporter": "python",
   "pygments_lexer": "ipython3",
   "version": "3.12.5"
  }
 },
 "nbformat": 4,
 "nbformat_minor": 5
}
