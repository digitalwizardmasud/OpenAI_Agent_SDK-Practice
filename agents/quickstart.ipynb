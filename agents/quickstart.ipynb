{
 "cells": [
  {
   "cell_type": "markdown",
   "id": "0dddb529",
   "metadata": {},
   "source": [
    "#### Here is Covered: \n",
    "- Simple Agent\n",
    "- Handoffs - Agent will deligate task to other Agent\n",
    "- InputGuardrail - Block the result conditionally based on input.\n"
   ]
  },
  {
   "cell_type": "code",
   "execution_count": 1,
   "id": "0baf0e96",
   "metadata": {},
   "outputs": [],
   "source": [
    "from agents import Agent, Runner, trace,  InputGuardrail, GuardrailFunctionOutput\n",
    "from agents.exceptions import InputGuardrailTripwireTriggered\n",
    "from dotenv import load_dotenv\n",
    "import asyncio\n",
    "from datetime import datetime\n",
    "from IPython.display import display, Markdown\n",
    "from pydantic import BaseModel"
   ]
  },
  {
   "cell_type": "code",
   "execution_count": 2,
   "id": "610949b0",
   "metadata": {},
   "outputs": [
    {
     "data": {
      "text/plain": [
       "True"
      ]
     },
     "execution_count": 2,
     "metadata": {},
     "output_type": "execute_result"
    }
   ],
   "source": [
    "load_dotenv()"
   ]
  },
  {
   "cell_type": "code",
   "execution_count": null,
   "id": "f6f77272",
   "metadata": {},
   "outputs": [
    {
     "data": {
      "text/plain": [
       "HomeworkOutput(is_homework=True, reasoning='The user asked me to act as a math tutor, which implies they are likely seeking help with an educational task, most probably a homework assignment.')"
      ]
     },
     "execution_count": 8,
     "metadata": {},
     "output_type": "execute_result"
    }
   ],
   "source": [
    "# Simple Agent Run Process\n",
    "\n",
    "agent = Agent(\n",
    "    name=\"Math Tutor\", \n",
    "    instructions=\"You will act as a math tutor. Explain your reasoning step by step and provide the final answer at the end.\",\n",
    ")\n",
    "result = await Runner.run(agent, \"Hello\")\n",
    "result.final_output"
   ]
  },
  {
   "cell_type": "code",
   "execution_count": 5,
   "id": "8243bfbf",
   "metadata": {},
   "outputs": [],
   "source": [
    "# Homework Guardrail Agent\n",
    "class HomeworkOutput(BaseModel):\n",
    "    is_homework: bool\n",
    "    reasoning: str\n",
    "\n",
    "guardrail_agent = Agent(\n",
    "    name=\"Guardrail check\",\n",
    "    instructions=\"Check if the user is asking about homework.\",\n",
    "    output_type=HomeworkOutput,\n",
    ")\n",
    "async def homework_guardrail(ctx, agent, input_data):\n",
    "    result = await Runner.run(guardrail_agent, input_data, context=ctx.context)\n",
    "    final_output = result.final_output_as(HomeworkOutput)\n",
    "    return GuardrailFunctionOutput(\n",
    "        output_info=final_output,\n",
    "        tripwire_triggered= not final_output.is_homework\n",
    "    )"
   ]
  },
  {
   "cell_type": "code",
   "execution_count": 6,
   "id": "991a60cb",
   "metadata": {},
   "outputs": [],
   "source": [
    "#Political Guardrail Agent\n",
    "class PoliticalOutput(BaseModel):\n",
    "    is_political: bool\n",
    "    reasoning: str\n",
    "\n",
    "political_guardrail_agent = Agent(\n",
    "    name=\"Political Guardrail\",\n",
    "    instructions=\"Check if the user is asking about political topics.\",\n",
    "    output_type=PoliticalOutput,\n",
    ")\n",
    "async def political_guardrail(ctx, agent, input_data):\n",
    "    result = await Runner.run(political_guardrail_agent, input_data, context=ctx.context)\n",
    "    final_output = result.final_output_as(PoliticalOutput)\n",
    "    return GuardrailFunctionOutput(\n",
    "        output_info=final_output,\n",
    "        tripwire_triggered= final_output.is_political\n",
    "    )\n"
   ]
  },
  {
   "cell_type": "code",
   "execution_count": 7,
   "id": "102d774a",
   "metadata": {},
   "outputs": [],
   "source": [
    "# Handoff - Delegate to other agents based on user question\n",
    "history_tutor_agent = Agent(\n",
    "    name=\"History Tutor\",\n",
    "    handoff_description=\"Special Agent for historical questions\",\n",
    "    instructions=\"You will act like a history tutor. Explain important event and context clearly and concisely.\",\n",
    ")\n",
    "\n",
    "math_tutor_agent = Agent(\n",
    "    name=\"Math Tutor\",\n",
    "    handoff_description=\"Special Agent for math questions\",\n",
    "    instructions=\"ou will act as a math tutor. Explain your reasoning step by step and provide the final answer at the end.\"\n",
    ")\n",
    "\n",
    "agent_executor = Agent(\n",
    "    name=\"Agent Executor\",\n",
    "    instructions=\"You determine which agent to use based on user question \",\n",
    "    handoffs=[history_tutor_agent, math_tutor_agent],\n",
    "    input_guardrails=[\n",
    "        # InputGuardrail(guardrail_function=homework_guardrail),\n",
    "        InputGuardrail(guardrail_function=political_guardrail),\n",
    "    ],\n",
    ")"
   ]
  },
  {
   "cell_type": "code",
   "execution_count": 9,
   "id": "2b859f6e",
   "metadata": {},
   "outputs": [
    {
     "name": "stdout",
     "output_type": "stream",
     "text": [
      "I don't have information about personal details unless you've shared something specific in this conversation. How can I assist you today?\n"
     ]
    }
   ],
   "source": [
    "with trace(\"Test handoffs\"):\n",
    "    try:\n",
    "        result = await Runner.run(agent_executor, \"Do you know about me?\")\n",
    "        print(result.final_output)\n",
    "    except InputGuardrailTripwireTriggered as e:\n",
    "        print(\"Guardrail blocked this input:\", e)"
   ]
  }
 ],
 "metadata": {
  "kernelspec": {
   "display_name": "openai_agent_sdk",
   "language": "python",
   "name": "python3"
  },
  "language_info": {
   "codemirror_mode": {
    "name": "ipython",
    "version": 3
   },
   "file_extension": ".py",
   "mimetype": "text/x-python",
   "name": "python",
   "nbconvert_exporter": "python",
   "pygments_lexer": "ipython3",
   "version": "3.12.5"
  }
 },
 "nbformat": 4,
 "nbformat_minor": 5
}
