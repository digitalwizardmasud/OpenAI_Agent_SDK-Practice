{
 "cells": [
  {
   "cell_type": "code",
   "execution_count": null,
   "id": "0af89ca1",
   "metadata": {},
   "outputs": [],
   "source": [
    "from agents import Agent, Runner, function_tool, trace, RunContextWrapper, RawResponsesStreamEvent, SQLiteSession\n",
    "from agents.agent import ToolsToFinalOutputResult, StopAtTools\n",
    "from IPython.display import display, Markdown\n",
    "import requests\n",
    "import random\n",
    "from pydantic import BaseModel\n",
    "from dataclasses import dataclass\n",
    "import asyncio\n",
    "from dotenv import load_dotenv\n",
    "\n",
    "load_dotenv()"
   ]
  },
  {
   "cell_type": "code",
   "execution_count": null,
   "id": "a7d04602",
   "metadata": {},
   "outputs": [],
   "source": [
    "agent = Agent(name=\"Assistant\", instructions=\"You are a helpful assistant\")"
   ]
  },
  {
   "cell_type": "code",
   "execution_count": null,
   "id": "13e92cd3",
   "metadata": {},
   "outputs": [],
   "source": [
    "session = SQLiteSession(\"session_new\", \"sessions.db\")\n",
    "session_two = SQLiteSession(\"session_two\", \"sessions.db\")"
   ]
  },
  {
   "cell_type": "code",
   "execution_count": null,
   "id": "53f39b8b",
   "metadata": {},
   "outputs": [],
   "source": [
    "with trace(\"new_session\"):\n",
    "    result = await Runner.run(agent, \"What is my name?\", session=session)\n",
    "    print(result.final_output)"
   ]
  },
  {
   "cell_type": "code",
   "execution_count": null,
   "id": "8b0ff9b8",
   "metadata": {},
   "outputs": [],
   "source": [
    "# Check session items\n",
    "items = await session.get_items()\n",
    "print(\"--Start--\")\n",
    "for item in items:\n",
    "    if item.get('role') == 'user':\n",
    "        print(item['content'])\n",
    "    elif item.get('id'):\n",
    "        print('bot: ',item['content'][0]['text'])\n",
    "    else:\n",
    "        print('bot: ', item['content'])\n",
    "print(\"--End--\")"
   ]
  },
  {
   "cell_type": "code",
   "execution_count": null,
   "id": "24fc4f39",
   "metadata": {},
   "outputs": [],
   "source": [
    "#Add session items\n",
    "new_items = [\n",
    "    {\n",
    "        \"role\": \"user\",\n",
    "        \"content\": \"What do you love, Masud?\"\n",
    "    },\n",
    "    {\n",
    "        \"role\": \"assistant\",\n",
    "        \"content\": \"I love to travel and explore new places.\"\n",
    "    }\n",
    "]\n",
    "await session.add_items(new_items)"
   ]
  },
  {
   "cell_type": "code",
   "execution_count": null,
   "id": "0d0c61ea",
   "metadata": {},
   "outputs": [],
   "source": [
    "# Pop or Remove last session items\n",
    "last_item = await session.pop_item()\n",
    "print(last_item) "
   ]
  },
  {
   "cell_type": "code",
   "execution_count": null,
   "id": "79ebb7ed",
   "metadata": {},
   "outputs": [],
   "source": [
    "#Clear session \n",
    "await session.clear_session()"
   ]
  },
  {
   "cell_type": "code",
   "execution_count": null,
   "id": "e0bcbe6f",
   "metadata": {},
   "outputs": [],
   "source": [
    "with trace(\"new_session\"):\n",
    "    result = await Runner.run(agent, \"What I love?\", session=session)\n",
    "    print(result.final_output)"
   ]
  },
  {
   "cell_type": "code",
   "execution_count": null,
   "id": "8b009bd4",
   "metadata": {},
   "outputs": [],
   "source": []
  }
 ],
 "metadata": {
  "kernelspec": {
   "display_name": "openai_agent_sdk",
   "language": "python",
   "name": "python3"
  },
  "language_info": {
   "codemirror_mode": {
    "name": "ipython",
    "version": 3
   },
   "file_extension": ".py",
   "mimetype": "text/x-python",
   "name": "python",
   "nbconvert_exporter": "python",
   "pygments_lexer": "ipython3",
   "version": "3.12.5"
  }
 },
 "nbformat": 4,
 "nbformat_minor": 5
}
